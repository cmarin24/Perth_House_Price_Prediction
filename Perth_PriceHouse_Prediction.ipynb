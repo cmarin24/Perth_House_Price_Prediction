{
 "cells": [
  {
   "cell_type": "code",
   "execution_count": 1,
   "metadata": {},
   "outputs": [
    {
     "data": {
      "text/html": [
       "<div>\n",
       "<style scoped>\n",
       "    .dataframe tbody tr th:only-of-type {\n",
       "        vertical-align: middle;\n",
       "    }\n",
       "\n",
       "    .dataframe tbody tr th {\n",
       "        vertical-align: top;\n",
       "    }\n",
       "\n",
       "    .dataframe thead th {\n",
       "        text-align: right;\n",
       "    }\n",
       "</style>\n",
       "<table border=\"1\" class=\"dataframe\">\n",
       "  <thead>\n",
       "    <tr style=\"text-align: right;\">\n",
       "      <th></th>\n",
       "      <th>ADDRESS</th>\n",
       "      <th>SUBURB</th>\n",
       "      <th>PRICE</th>\n",
       "      <th>BEDROOMS</th>\n",
       "      <th>BATHROOMS</th>\n",
       "      <th>GARAGE</th>\n",
       "      <th>LAND_AREA</th>\n",
       "      <th>FLOOR_AREA</th>\n",
       "      <th>BUILD_YEAR</th>\n",
       "      <th>CBD_DIST</th>\n",
       "      <th>NEAREST_STN</th>\n",
       "      <th>NEAREST_STN_DIST</th>\n",
       "      <th>DATE_SOLD</th>\n",
       "      <th>POSTCODE</th>\n",
       "      <th>LATITUDE</th>\n",
       "      <th>LONGITUDE</th>\n",
       "      <th>NEAREST_SCH</th>\n",
       "      <th>NEAREST_SCH_DIST</th>\n",
       "      <th>NEAREST_SCH_RANK</th>\n",
       "    </tr>\n",
       "  </thead>\n",
       "  <tbody>\n",
       "    <tr>\n",
       "      <th>0</th>\n",
       "      <td>1 Acorn Place</td>\n",
       "      <td>South Lake</td>\n",
       "      <td>565000</td>\n",
       "      <td>4</td>\n",
       "      <td>2</td>\n",
       "      <td>2.0</td>\n",
       "      <td>600</td>\n",
       "      <td>160</td>\n",
       "      <td>2003.0</td>\n",
       "      <td>18300</td>\n",
       "      <td>Cockburn Central Station</td>\n",
       "      <td>1800</td>\n",
       "      <td>09-2018\\r</td>\n",
       "      <td>6164</td>\n",
       "      <td>-32.115900</td>\n",
       "      <td>115.842450</td>\n",
       "      <td>LAKELAND SENIOR HIGH SCHOOL</td>\n",
       "      <td>0.828339</td>\n",
       "      <td>NaN</td>\n",
       "    </tr>\n",
       "    <tr>\n",
       "      <th>1</th>\n",
       "      <td>1 Addis Way</td>\n",
       "      <td>Wandi</td>\n",
       "      <td>365000</td>\n",
       "      <td>3</td>\n",
       "      <td>2</td>\n",
       "      <td>2.0</td>\n",
       "      <td>351</td>\n",
       "      <td>139</td>\n",
       "      <td>2013.0</td>\n",
       "      <td>26900</td>\n",
       "      <td>Kwinana Station</td>\n",
       "      <td>4900</td>\n",
       "      <td>02-2019\\r</td>\n",
       "      <td>6167</td>\n",
       "      <td>-32.193470</td>\n",
       "      <td>115.859554</td>\n",
       "      <td>ATWELL COLLEGE</td>\n",
       "      <td>5.524324</td>\n",
       "      <td>129.0</td>\n",
       "    </tr>\n",
       "    <tr>\n",
       "      <th>2</th>\n",
       "      <td>1 Ainsley Court</td>\n",
       "      <td>Camillo</td>\n",
       "      <td>287000</td>\n",
       "      <td>3</td>\n",
       "      <td>1</td>\n",
       "      <td>1.0</td>\n",
       "      <td>719</td>\n",
       "      <td>86</td>\n",
       "      <td>1979.0</td>\n",
       "      <td>22600</td>\n",
       "      <td>Challis Station</td>\n",
       "      <td>1900</td>\n",
       "      <td>06-2015\\r</td>\n",
       "      <td>6111</td>\n",
       "      <td>-32.120578</td>\n",
       "      <td>115.993579</td>\n",
       "      <td>KELMSCOTT SENIOR HIGH SCHOOL</td>\n",
       "      <td>1.649178</td>\n",
       "      <td>113.0</td>\n",
       "    </tr>\n",
       "    <tr>\n",
       "      <th>3</th>\n",
       "      <td>1 Albert Street</td>\n",
       "      <td>Bellevue</td>\n",
       "      <td>255000</td>\n",
       "      <td>2</td>\n",
       "      <td>1</td>\n",
       "      <td>2.0</td>\n",
       "      <td>651</td>\n",
       "      <td>59</td>\n",
       "      <td>1953.0</td>\n",
       "      <td>17900</td>\n",
       "      <td>Midland Station</td>\n",
       "      <td>3600</td>\n",
       "      <td>07-2018\\r</td>\n",
       "      <td>6056</td>\n",
       "      <td>-31.900547</td>\n",
       "      <td>116.038009</td>\n",
       "      <td>SWAN VIEW SENIOR HIGH SCHOOL</td>\n",
       "      <td>1.571401</td>\n",
       "      <td>NaN</td>\n",
       "    </tr>\n",
       "    <tr>\n",
       "      <th>4</th>\n",
       "      <td>1 Aman Place</td>\n",
       "      <td>Lockridge</td>\n",
       "      <td>325000</td>\n",
       "      <td>4</td>\n",
       "      <td>1</td>\n",
       "      <td>2.0</td>\n",
       "      <td>466</td>\n",
       "      <td>131</td>\n",
       "      <td>1998.0</td>\n",
       "      <td>11200</td>\n",
       "      <td>Bassendean Station</td>\n",
       "      <td>2000</td>\n",
       "      <td>11-2016\\r</td>\n",
       "      <td>6054</td>\n",
       "      <td>-31.885790</td>\n",
       "      <td>115.947780</td>\n",
       "      <td>KIARA COLLEGE</td>\n",
       "      <td>1.514922</td>\n",
       "      <td>NaN</td>\n",
       "    </tr>\n",
       "    <tr>\n",
       "      <th>...</th>\n",
       "      <td>...</td>\n",
       "      <td>...</td>\n",
       "      <td>...</td>\n",
       "      <td>...</td>\n",
       "      <td>...</td>\n",
       "      <td>...</td>\n",
       "      <td>...</td>\n",
       "      <td>...</td>\n",
       "      <td>...</td>\n",
       "      <td>...</td>\n",
       "      <td>...</td>\n",
       "      <td>...</td>\n",
       "      <td>...</td>\n",
       "      <td>...</td>\n",
       "      <td>...</td>\n",
       "      <td>...</td>\n",
       "      <td>...</td>\n",
       "      <td>...</td>\n",
       "      <td>...</td>\n",
       "    </tr>\n",
       "    <tr>\n",
       "      <th>33651</th>\n",
       "      <td>9C Gold Street</td>\n",
       "      <td>South Fremantle</td>\n",
       "      <td>1040000</td>\n",
       "      <td>4</td>\n",
       "      <td>3</td>\n",
       "      <td>2.0</td>\n",
       "      <td>292</td>\n",
       "      <td>245</td>\n",
       "      <td>2013.0</td>\n",
       "      <td>16100</td>\n",
       "      <td>Fremantle Station</td>\n",
       "      <td>1500</td>\n",
       "      <td>03-2016\\r</td>\n",
       "      <td>6162</td>\n",
       "      <td>-32.064580</td>\n",
       "      <td>115.751820</td>\n",
       "      <td>CHRISTIAN BROTHERS' COLLEGE</td>\n",
       "      <td>1.430350</td>\n",
       "      <td>49.0</td>\n",
       "    </tr>\n",
       "    <tr>\n",
       "      <th>33652</th>\n",
       "      <td>9C Pycombe Way</td>\n",
       "      <td>Westminster</td>\n",
       "      <td>410000</td>\n",
       "      <td>3</td>\n",
       "      <td>2</td>\n",
       "      <td>2.0</td>\n",
       "      <td>228</td>\n",
       "      <td>114</td>\n",
       "      <td>NaN</td>\n",
       "      <td>9600</td>\n",
       "      <td>Stirling Station</td>\n",
       "      <td>4600</td>\n",
       "      <td>02-2017\\r</td>\n",
       "      <td>6061</td>\n",
       "      <td>-31.867055</td>\n",
       "      <td>115.841403</td>\n",
       "      <td>JOHN SEPTIMUS ROE ANGLICAN COMMUNITY SCHOOL</td>\n",
       "      <td>1.679644</td>\n",
       "      <td>35.0</td>\n",
       "    </tr>\n",
       "    <tr>\n",
       "      <th>33653</th>\n",
       "      <td>9D Pycombe Way</td>\n",
       "      <td>Westminster</td>\n",
       "      <td>427000</td>\n",
       "      <td>3</td>\n",
       "      <td>2</td>\n",
       "      <td>2.0</td>\n",
       "      <td>261</td>\n",
       "      <td>112</td>\n",
       "      <td>NaN</td>\n",
       "      <td>9600</td>\n",
       "      <td>Stirling Station</td>\n",
       "      <td>4600</td>\n",
       "      <td>02-2017\\r</td>\n",
       "      <td>6061</td>\n",
       "      <td>-31.866890</td>\n",
       "      <td>115.841418</td>\n",
       "      <td>JOHN SEPTIMUS ROE ANGLICAN COMMUNITY SCHOOL</td>\n",
       "      <td>1.669159</td>\n",
       "      <td>35.0</td>\n",
       "    </tr>\n",
       "    <tr>\n",
       "      <th>33654</th>\n",
       "      <td>9D Shalford Way</td>\n",
       "      <td>Girrawheen</td>\n",
       "      <td>295000</td>\n",
       "      <td>3</td>\n",
       "      <td>1</td>\n",
       "      <td>2.0</td>\n",
       "      <td>457</td>\n",
       "      <td>85</td>\n",
       "      <td>1974.0</td>\n",
       "      <td>12600</td>\n",
       "      <td>Warwick Station</td>\n",
       "      <td>4400</td>\n",
       "      <td>10-2016\\r</td>\n",
       "      <td>6064</td>\n",
       "      <td>-31.839680</td>\n",
       "      <td>115.842410</td>\n",
       "      <td>GIRRAWHEEN SENIOR HIGH SCHOOL</td>\n",
       "      <td>0.358494</td>\n",
       "      <td>NaN</td>\n",
       "    </tr>\n",
       "    <tr>\n",
       "      <th>33655</th>\n",
       "      <td>9E Margaret Street</td>\n",
       "      <td>Midland</td>\n",
       "      <td>295000</td>\n",
       "      <td>3</td>\n",
       "      <td>1</td>\n",
       "      <td>2.0</td>\n",
       "      <td>296</td>\n",
       "      <td>95</td>\n",
       "      <td>NaN</td>\n",
       "      <td>16700</td>\n",
       "      <td>Midland Station</td>\n",
       "      <td>1700</td>\n",
       "      <td>05-2016\\r</td>\n",
       "      <td>6056</td>\n",
       "      <td>-31.882163</td>\n",
       "      <td>116.014755</td>\n",
       "      <td>LA SALLE COLLEGE</td>\n",
       "      <td>1.055564</td>\n",
       "      <td>53.0</td>\n",
       "    </tr>\n",
       "  </tbody>\n",
       "</table>\n",
       "<p>33656 rows × 19 columns</p>\n",
       "</div>"
      ],
      "text/plain": [
       "                  ADDRESS           SUBURB    PRICE  BEDROOMS  BATHROOMS  \\\n",
       "0           1 Acorn Place       South Lake   565000         4          2   \n",
       "1             1 Addis Way            Wandi   365000         3          2   \n",
       "2         1 Ainsley Court          Camillo   287000         3          1   \n",
       "3         1 Albert Street         Bellevue   255000         2          1   \n",
       "4            1 Aman Place        Lockridge   325000         4          1   \n",
       "...                   ...              ...      ...       ...        ...   \n",
       "33651      9C Gold Street  South Fremantle  1040000         4          3   \n",
       "33652      9C Pycombe Way      Westminster   410000         3          2   \n",
       "33653      9D Pycombe Way      Westminster   427000         3          2   \n",
       "33654     9D Shalford Way       Girrawheen   295000         3          1   \n",
       "33655  9E Margaret Street          Midland   295000         3          1   \n",
       "\n",
       "       GARAGE  LAND_AREA  FLOOR_AREA  BUILD_YEAR  CBD_DIST  \\\n",
       "0         2.0        600         160      2003.0     18300   \n",
       "1         2.0        351         139      2013.0     26900   \n",
       "2         1.0        719          86      1979.0     22600   \n",
       "3         2.0        651          59      1953.0     17900   \n",
       "4         2.0        466         131      1998.0     11200   \n",
       "...       ...        ...         ...         ...       ...   \n",
       "33651     2.0        292         245      2013.0     16100   \n",
       "33652     2.0        228         114         NaN      9600   \n",
       "33653     2.0        261         112         NaN      9600   \n",
       "33654     2.0        457          85      1974.0     12600   \n",
       "33655     2.0        296          95         NaN     16700   \n",
       "\n",
       "                    NEAREST_STN  NEAREST_STN_DIST  DATE_SOLD  POSTCODE  \\\n",
       "0      Cockburn Central Station              1800  09-2018\\r      6164   \n",
       "1               Kwinana Station              4900  02-2019\\r      6167   \n",
       "2               Challis Station              1900  06-2015\\r      6111   \n",
       "3               Midland Station              3600  07-2018\\r      6056   \n",
       "4            Bassendean Station              2000  11-2016\\r      6054   \n",
       "...                         ...               ...        ...       ...   \n",
       "33651         Fremantle Station              1500  03-2016\\r      6162   \n",
       "33652          Stirling Station              4600  02-2017\\r      6061   \n",
       "33653          Stirling Station              4600  02-2017\\r      6061   \n",
       "33654           Warwick Station              4400  10-2016\\r      6064   \n",
       "33655           Midland Station              1700  05-2016\\r      6056   \n",
       "\n",
       "        LATITUDE   LONGITUDE                                  NEAREST_SCH  \\\n",
       "0     -32.115900  115.842450                  LAKELAND SENIOR HIGH SCHOOL   \n",
       "1     -32.193470  115.859554                               ATWELL COLLEGE   \n",
       "2     -32.120578  115.993579                 KELMSCOTT SENIOR HIGH SCHOOL   \n",
       "3     -31.900547  116.038009                 SWAN VIEW SENIOR HIGH SCHOOL   \n",
       "4     -31.885790  115.947780                                KIARA COLLEGE   \n",
       "...          ...         ...                                          ...   \n",
       "33651 -32.064580  115.751820                  CHRISTIAN BROTHERS' COLLEGE   \n",
       "33652 -31.867055  115.841403  JOHN SEPTIMUS ROE ANGLICAN COMMUNITY SCHOOL   \n",
       "33653 -31.866890  115.841418  JOHN SEPTIMUS ROE ANGLICAN COMMUNITY SCHOOL   \n",
       "33654 -31.839680  115.842410                GIRRAWHEEN SENIOR HIGH SCHOOL   \n",
       "33655 -31.882163  116.014755                             LA SALLE COLLEGE   \n",
       "\n",
       "       NEAREST_SCH_DIST  NEAREST_SCH_RANK  \n",
       "0              0.828339               NaN  \n",
       "1              5.524324             129.0  \n",
       "2              1.649178             113.0  \n",
       "3              1.571401               NaN  \n",
       "4              1.514922               NaN  \n",
       "...                 ...               ...  \n",
       "33651          1.430350              49.0  \n",
       "33652          1.679644              35.0  \n",
       "33653          1.669159              35.0  \n",
       "33654          0.358494               NaN  \n",
       "33655          1.055564              53.0  \n",
       "\n",
       "[33656 rows x 19 columns]"
      ]
     },
     "execution_count": 1,
     "metadata": {},
     "output_type": "execute_result"
    }
   ],
   "source": [
    "# packages\n",
    "import numpy as np\n",
    "import pandas as pd\n",
    "import matplotlib.pyplot as plt\n",
    "import seaborn as sns\n",
    "# create dummy data and classifier\n",
    "from sklearn.datasets import make_classification\n",
    "from sklearn.tree import DecisionTreeClassifier\n",
    "from sklearn.model_selection import train_test_split\n",
    "# key metrics \n",
    "from sklearn.metrics import confusion_matrix\n",
    "from sklearn.metrics import accuracy_score\n",
    "import seaborn as sns\n",
    "\n",
    "data = pd.read_csv('perth_au_house_prices.csv') # load the data\n",
    "\n",
    "data"
   ]
  },
  {
   "cell_type": "code",
   "execution_count": 2,
   "metadata": {},
   "outputs": [
    {
     "name": "stdout",
     "output_type": "stream",
     "text": [
      "<class 'pandas.core.frame.DataFrame'>\n",
      "RangeIndex: 33656 entries, 0 to 33655\n",
      "Data columns (total 19 columns):\n",
      " #   Column            Non-Null Count  Dtype  \n",
      "---  ------            --------------  -----  \n",
      " 0   ADDRESS           33656 non-null  object \n",
      " 1   SUBURB            33656 non-null  object \n",
      " 2   PRICE             33656 non-null  int64  \n",
      " 3   BEDROOMS          33656 non-null  int64  \n",
      " 4   BATHROOMS         33656 non-null  int64  \n",
      " 5   GARAGE            31178 non-null  float64\n",
      " 6   LAND_AREA         33656 non-null  int64  \n",
      " 7   FLOOR_AREA        33656 non-null  int64  \n",
      " 8   BUILD_YEAR        30501 non-null  float64\n",
      " 9   CBD_DIST          33656 non-null  int64  \n",
      " 10  NEAREST_STN       33656 non-null  object \n",
      " 11  NEAREST_STN_DIST  33656 non-null  int64  \n",
      " 12  DATE_SOLD         33656 non-null  object \n",
      " 13  POSTCODE          33656 non-null  int64  \n",
      " 14  LATITUDE          33656 non-null  float64\n",
      " 15  LONGITUDE         33656 non-null  float64\n",
      " 16  NEAREST_SCH       33656 non-null  object \n",
      " 17  NEAREST_SCH_DIST  33656 non-null  float64\n",
      " 18  NEAREST_SCH_RANK  22704 non-null  float64\n",
      "dtypes: float64(6), int64(8), object(5)\n",
      "memory usage: 4.9+ MB\n"
     ]
    }
   ],
   "source": [
    "data.info()"
   ]
  },
  {
   "cell_type": "code",
   "execution_count": 3,
   "metadata": {},
   "outputs": [
    {
     "data": {
      "text/plain": [
       "ADDRESS                 0\n",
       "SUBURB                  0\n",
       "PRICE                   0\n",
       "BEDROOMS                0\n",
       "BATHROOMS               0\n",
       "GARAGE               2478\n",
       "LAND_AREA               0\n",
       "FLOOR_AREA              0\n",
       "BUILD_YEAR           3155\n",
       "CBD_DIST                0\n",
       "NEAREST_STN             0\n",
       "NEAREST_STN_DIST        0\n",
       "DATE_SOLD               0\n",
       "POSTCODE                0\n",
       "LATITUDE                0\n",
       "LONGITUDE               0\n",
       "NEAREST_SCH             0\n",
       "NEAREST_SCH_DIST        0\n",
       "NEAREST_SCH_RANK    10952\n",
       "dtype: int64"
      ]
     },
     "execution_count": 3,
     "metadata": {},
     "output_type": "execute_result"
    }
   ],
   "source": [
    "data.isnull().sum()"
   ]
  },
  {
   "cell_type": "code",
   "execution_count": 4,
   "metadata": {},
   "outputs": [
    {
     "data": {
      "text/plain": [
       "7.362728785357738"
      ]
     },
     "execution_count": 4,
     "metadata": {},
     "output_type": "execute_result"
    }
   ],
   "source": [
    "#procentage of null values in \"GARAGE\" column\n",
    "(data[\"GARAGE\"].isna().sum()/len(data[\"GARAGE\"]))*100"
   ]
  },
  {
   "cell_type": "code",
   "execution_count": 5,
   "metadata": {},
   "outputs": [
    {
     "data": {
      "text/plain": [
       "9.374257190396957"
      ]
     },
     "execution_count": 5,
     "metadata": {},
     "output_type": "execute_result"
    }
   ],
   "source": [
    "#procentage of null values in \"BUILD_YEAR\" column\n",
    "(data[\"BUILD_YEAR\"].isna().sum()/len(data[\"BUILD_YEAR\"]))*100"
   ]
  },
  {
   "cell_type": "code",
   "execution_count": 6,
   "metadata": {},
   "outputs": [
    {
     "data": {
      "text/plain": [
       "32.54100309008795"
      ]
     },
     "execution_count": 6,
     "metadata": {},
     "output_type": "execute_result"
    }
   ],
   "source": [
    "#procentage of null values in \"NEAREST_SCH_RANK\" column\n",
    "(data[\"NEAREST_SCH_RANK\"].isna().sum()/len(data[\"NEAREST_SCH_RANK\"]))*100"
   ]
  },
  {
   "cell_type": "code",
   "execution_count": 7,
   "metadata": {},
   "outputs": [
    {
     "data": {
      "image/png": "[encoded data removed]",
      "text/plain": [
       "<Figure size 720x576 with 2 Axes>"
      ]
     },
     "metadata": {
      "needs_background": "light"
     },
     "output_type": "display_data"
    }
   ],
   "source": [
    "plt.figure(figsize=(10,8))\n",
    "sns.heatmap(data.isnull())\n",
    "plt.show()"
   ]
  },
  {
   "cell_type": "code",
   "execution_count": 8,
   "metadata": {},
   "outputs": [],
   "source": [
    "data.drop([\"ADDRESS\", \"NEAREST_SCH_RANK\"], axis=1, inplace=True)"
   ]
  },
  {
   "cell_type": "code",
   "execution_count": 9,
   "metadata": {},
   "outputs": [],
   "source": [
    "data['GARAGE'] = data['GARAGE'].fillna(data['GARAGE'].mean())"
   ]
  },
  {
   "cell_type": "code",
   "execution_count": 10,
   "metadata": {},
   "outputs": [],
   "source": [
    "data['BUILD_YEAR'] = data['BUILD_YEAR'].fillna(data['BUILD_YEAR'].mean())"
   ]
  },
  {
   "cell_type": "code",
   "execution_count": 11,
   "metadata": {},
   "outputs": [
    {
     "data": {
      "text/plain": [
       "SUBURB              0\n",
       "PRICE               0\n",
       "BEDROOMS            0\n",
       "BATHROOMS           0\n",
       "GARAGE              0\n",
       "LAND_AREA           0\n",
       "FLOOR_AREA          0\n",
       "BUILD_YEAR          0\n",
       "CBD_DIST            0\n",
       "NEAREST_STN         0\n",
       "NEAREST_STN_DIST    0\n",
       "DATE_SOLD           0\n",
       "POSTCODE            0\n",
       "LATITUDE            0\n",
       "LONGITUDE           0\n",
       "NEAREST_SCH         0\n",
       "NEAREST_SCH_DIST    0\n",
       "dtype: int64"
      ]
     },
     "execution_count": 11,
     "metadata": {},
     "output_type": "execute_result"
    }
   ],
   "source": [
    "data.isnull().sum()"
   ]
  },
  {
   "cell_type": "code",
   "execution_count": 12,
   "metadata": {},
   "outputs": [],
   "source": [
    "data[\"DATE_SOLD\"] = pd.to_datetime(data[\"DATE_SOLD\"])\n",
    "data[\"DATE_YEAR\"] = data[\"DATE_SOLD\"].dt.year\n",
    "data[\"DATE_MONTH\"] = data[\"DATE_SOLD\"].dt.month"
   ]
  },
  {
   "cell_type": "code",
   "execution_count": 13,
   "metadata": {},
   "outputs": [
    {
     "data": {
      "text/plain": [
       "<AxesSubplot:title={'center':'Build Year Frequency'}, ylabel='Frequency'>"
      ]
     },
     "execution_count": 13,
     "metadata": {},
     "output_type": "execute_result"
    },
    {
     "data": {
      "image/png": "[encoded data removed]",
      "text/plain": [
       "<Figure size 576x432 with 1 Axes>"
      ]
     },
     "metadata": {
      "needs_background": "light"
     },
     "output_type": "display_data"
    }
   ],
   "source": [
    "data[\"DATE_YEAR\"].plot(kind=\"hist\", edgecolor='orange', title=\"Build Year Frequency\", figsize=(8,6), bins=20)"
   ]
  },
  {
   "cell_type": "code",
   "execution_count": 14,
   "metadata": {},
   "outputs": [
    {
     "data": {
      "text/html": [
       "<div>\n",
       "<style scoped>\n",
       "    .dataframe tbody tr th:only-of-type {\n",
       "        vertical-align: middle;\n",
       "    }\n",
       "\n",
       "    .dataframe tbody tr th {\n",
       "        vertical-align: top;\n",
       "    }\n",
       "\n",
       "    .dataframe thead th {\n",
       "        text-align: right;\n",
       "    }\n",
       "</style>\n",
       "<table border=\"1\" class=\"dataframe\">\n",
       "  <thead>\n",
       "    <tr style=\"text-align: right;\">\n",
       "      <th></th>\n",
       "      <th>SUBURB</th>\n",
       "      <th>PRICE</th>\n",
       "      <th>BEDROOMS</th>\n",
       "      <th>BATHROOMS</th>\n",
       "      <th>GARAGE</th>\n",
       "      <th>LAND_AREA</th>\n",
       "      <th>FLOOR_AREA</th>\n",
       "      <th>BUILD_YEAR</th>\n",
       "      <th>CBD_DIST</th>\n",
       "      <th>NEAREST_STN</th>\n",
       "      <th>NEAREST_STN_DIST</th>\n",
       "      <th>DATE_SOLD</th>\n",
       "      <th>POSTCODE</th>\n",
       "      <th>LATITUDE</th>\n",
       "      <th>LONGITUDE</th>\n",
       "      <th>NEAREST_SCH</th>\n",
       "      <th>NEAREST_SCH_DIST</th>\n",
       "      <th>DATE_YEAR</th>\n",
       "      <th>DATE_MONTH</th>\n",
       "    </tr>\n",
       "  </thead>\n",
       "  <tbody>\n",
       "    <tr>\n",
       "      <th>0</th>\n",
       "      <td>South Lake</td>\n",
       "      <td>565000</td>\n",
       "      <td>4</td>\n",
       "      <td>2</td>\n",
       "      <td>2.0</td>\n",
       "      <td>600</td>\n",
       "      <td>160</td>\n",
       "      <td>2003.0</td>\n",
       "      <td>18300</td>\n",
       "      <td>Cockburn Central Station</td>\n",
       "      <td>1800</td>\n",
       "      <td>2018-09-01</td>\n",
       "      <td>6164</td>\n",
       "      <td>-32.115900</td>\n",
       "      <td>115.842450</td>\n",
       "      <td>LAKELAND SENIOR HIGH SCHOOL</td>\n",
       "      <td>0.828339</td>\n",
       "      <td>2018</td>\n",
       "      <td>9</td>\n",
       "    </tr>\n",
       "    <tr>\n",
       "      <th>1</th>\n",
       "      <td>Wandi</td>\n",
       "      <td>365000</td>\n",
       "      <td>3</td>\n",
       "      <td>2</td>\n",
       "      <td>2.0</td>\n",
       "      <td>351</td>\n",
       "      <td>139</td>\n",
       "      <td>2013.0</td>\n",
       "      <td>26900</td>\n",
       "      <td>Kwinana Station</td>\n",
       "      <td>4900</td>\n",
       "      <td>2019-02-01</td>\n",
       "      <td>6167</td>\n",
       "      <td>-32.193470</td>\n",
       "      <td>115.859554</td>\n",
       "      <td>ATWELL COLLEGE</td>\n",
       "      <td>5.524324</td>\n",
       "      <td>2019</td>\n",
       "      <td>2</td>\n",
       "    </tr>\n",
       "    <tr>\n",
       "      <th>2</th>\n",
       "      <td>Camillo</td>\n",
       "      <td>287000</td>\n",
       "      <td>3</td>\n",
       "      <td>1</td>\n",
       "      <td>1.0</td>\n",
       "      <td>719</td>\n",
       "      <td>86</td>\n",
       "      <td>1979.0</td>\n",
       "      <td>22600</td>\n",
       "      <td>Challis Station</td>\n",
       "      <td>1900</td>\n",
       "      <td>2015-06-01</td>\n",
       "      <td>6111</td>\n",
       "      <td>-32.120578</td>\n",
       "      <td>115.993579</td>\n",
       "      <td>KELMSCOTT SENIOR HIGH SCHOOL</td>\n",
       "      <td>1.649178</td>\n",
       "      <td>2015</td>\n",
       "      <td>6</td>\n",
       "    </tr>\n",
       "    <tr>\n",
       "      <th>3</th>\n",
       "      <td>Bellevue</td>\n",
       "      <td>255000</td>\n",
       "      <td>2</td>\n",
       "      <td>1</td>\n",
       "      <td>2.0</td>\n",
       "      <td>651</td>\n",
       "      <td>59</td>\n",
       "      <td>1953.0</td>\n",
       "      <td>17900</td>\n",
       "      <td>Midland Station</td>\n",
       "      <td>3600</td>\n",
       "      <td>2018-07-01</td>\n",
       "      <td>6056</td>\n",
       "      <td>-31.900547</td>\n",
       "      <td>116.038009</td>\n",
       "      <td>SWAN VIEW SENIOR HIGH SCHOOL</td>\n",
       "      <td>1.571401</td>\n",
       "      <td>2018</td>\n",
       "      <td>7</td>\n",
       "    </tr>\n",
       "    <tr>\n",
       "      <th>4</th>\n",
       "      <td>Lockridge</td>\n",
       "      <td>325000</td>\n",
       "      <td>4</td>\n",
       "      <td>1</td>\n",
       "      <td>2.0</td>\n",
       "      <td>466</td>\n",
       "      <td>131</td>\n",
       "      <td>1998.0</td>\n",
       "      <td>11200</td>\n",
       "      <td>Bassendean Station</td>\n",
       "      <td>2000</td>\n",
       "      <td>2016-11-01</td>\n",
       "      <td>6054</td>\n",
       "      <td>-31.885790</td>\n",
       "      <td>115.947780</td>\n",
       "      <td>KIARA COLLEGE</td>\n",
       "      <td>1.514922</td>\n",
       "      <td>2016</td>\n",
       "      <td>11</td>\n",
       "    </tr>\n",
       "  </tbody>\n",
       "</table>\n",
       "</div>"
      ],
      "text/plain": [
       "       SUBURB   PRICE  BEDROOMS  BATHROOMS  GARAGE  LAND_AREA  FLOOR_AREA  \\\n",
       "0  South Lake  565000         4          2     2.0        600         160   \n",
       "1       Wandi  365000         3          2     2.0        351         139   \n",
       "2     Camillo  287000         3          1     1.0        719          86   \n",
       "3    Bellevue  255000         2          1     2.0        651          59   \n",
       "4   Lockridge  325000         4          1     2.0        466         131   \n",
       "\n",
       "   BUILD_YEAR  CBD_DIST               NEAREST_STN  NEAREST_STN_DIST  \\\n",
       "0      2003.0     18300  Cockburn Central Station              1800   \n",
       "1      2013.0     26900           Kwinana Station              4900   \n",
       "2      1979.0     22600           Challis Station              1900   \n",
       "3      1953.0     17900           Midland Station              3600   \n",
       "4      1998.0     11200        Bassendean Station              2000   \n",
       "\n",
       "   DATE_SOLD  POSTCODE   LATITUDE   LONGITUDE                   NEAREST_SCH  \\\n",
       "0 2018-09-01      6164 -32.115900  115.842450   LAKELAND SENIOR HIGH SCHOOL   \n",
       "1 2019-02-01      6167 -32.193470  115.859554                ATWELL COLLEGE   \n",
       "2 2015-06-01      6111 -32.120578  115.993579  KELMSCOTT SENIOR HIGH SCHOOL   \n",
       "3 2018-07-01      6056 -31.900547  116.038009  SWAN VIEW SENIOR HIGH SCHOOL   \n",
       "4 2016-11-01      6054 -31.885790  115.947780                 KIARA COLLEGE   \n",
       "\n",
       "   NEAREST_SCH_DIST  DATE_YEAR  DATE_MONTH  \n",
       "0          0.828339       2018           9  \n",
       "1          5.524324       2019           2  \n",
       "2          1.649178       2015           6  \n",
       "3          1.571401       2018           7  \n",
       "4          1.514922       2016          11  "
      ]
     },
     "execution_count": 14,
     "metadata": {},
     "output_type": "execute_result"
    }
   ],
   "source": [
    "data.head()"
   ]
  },
  {
   "cell_type": "code",
   "execution_count": 15,
   "metadata": {},
   "outputs": [],
   "source": [
    "data.drop([\"NEAREST_STN\", \"DATE_SOLD\", \"NEAREST_SCH\"], axis=1, inplace=True)"
   ]
  },
  {
   "cell_type": "code",
   "execution_count": 16,
   "metadata": {},
   "outputs": [
    {
     "name": "stdout",
     "output_type": "stream",
     "text": [
      "<class 'pandas.core.frame.DataFrame'>\n",
      "RangeIndex: 33656 entries, 0 to 33655\n",
      "Data columns (total 16 columns):\n",
      " #   Column            Non-Null Count  Dtype  \n",
      "---  ------            --------------  -----  \n",
      " 0   SUBURB            33656 non-null  object \n",
      " 1   PRICE             33656 non-null  int64  \n",
      " 2   BEDROOMS          33656 non-null  int64  \n",
      " 3   BATHROOMS         33656 non-null  int64  \n",
      " 4   GARAGE            33656 non-null  float64\n",
      " 5   LAND_AREA         33656 non-null  int64  \n",
      " 6   FLOOR_AREA        33656 non-null  int64  \n",
      " 7   BUILD_YEAR        33656 non-null  float64\n",
      " 8   CBD_DIST          33656 non-null  int64  \n",
      " 9   NEAREST_STN_DIST  33656 non-null  int64  \n",
      " 10  POSTCODE          33656 non-null  int64  \n",
      " 11  LATITUDE          33656 non-null  float64\n",
      " 12  LONGITUDE         33656 non-null  float64\n",
      " 13  NEAREST_SCH_DIST  33656 non-null  float64\n",
      " 14  DATE_YEAR         33656 non-null  int64  \n",
      " 15  DATE_MONTH        33656 non-null  int64  \n",
      "dtypes: float64(5), int64(10), object(1)\n",
      "memory usage: 4.1+ MB\n"
     ]
    }
   ],
   "source": [
    "data.info()"
   ]
  },
  {
   "cell_type": "code",
   "execution_count": 17,
   "metadata": {},
   "outputs": [
    {
     "name": "stdout",
     "output_type": "stream",
     "text": [
      "         PRICE  BEDROOMS  BATHROOMS  GARAGE  LAND_AREA  FLOOR_AREA  \\\n",
      "0       565000         4          2     2.0        600         160   \n",
      "1       365000         3          2     2.0        351         139   \n",
      "2       287000         3          1     1.0        719          86   \n",
      "3       255000         2          1     2.0        651          59   \n",
      "4       325000         4          1     2.0        466         131   \n",
      "...        ...       ...        ...     ...        ...         ...   \n",
      "33651  1040000         4          3     2.0        292         245   \n",
      "33652   410000         3          2     2.0        228         114   \n",
      "33653   427000         3          2     2.0        261         112   \n",
      "33654   295000         3          1     2.0        457          85   \n",
      "33655   295000         3          1     2.0        296          95   \n",
      "\n",
      "        BUILD_YEAR  CBD_DIST  NEAREST_STN_DIST  POSTCODE  ...  SUBURB_Wilson  \\\n",
      "0      2003.000000     18300              1800      6164  ...              0   \n",
      "1      2013.000000     26900              4900      6167  ...              0   \n",
      "2      1979.000000     22600              1900      6111  ...              0   \n",
      "3      1953.000000     17900              3600      6056  ...              0   \n",
      "4      1998.000000     11200              2000      6054  ...              0   \n",
      "...            ...       ...               ...       ...  ...            ...   \n",
      "33651  2013.000000     16100              1500      6162  ...              0   \n",
      "33652  1989.706436      9600              4600      6061  ...              0   \n",
      "33653  1989.706436      9600              4600      6061  ...              0   \n",
      "33654  1974.000000     12600              4400      6064  ...              0   \n",
      "33655  1989.706436     16700              1700      6056  ...              0   \n",
      "\n",
      "       SUBURB_Winthrop  SUBURB_Woodbridge  SUBURB_Woodlands  SUBURB_Woodvale  \\\n",
      "0                    0                  0                 0                0   \n",
      "1                    0                  0                 0                0   \n",
      "2                    0                  0                 0                0   \n",
      "3                    0                  0                 0                0   \n",
      "4                    0                  0                 0                0   \n",
      "...                ...                ...               ...              ...   \n",
      "33651                0                  0                 0                0   \n",
      "33652                0                  0                 0                0   \n",
      "33653                0                  0                 0                0   \n",
      "33654                0                  0                 0                0   \n",
      "33655                0                  0                 0                0   \n",
      "\n",
      "       SUBURB_Wooroloo  SUBURB_Wungong  SUBURB_Yanchep  SUBURB_Yangebup  \\\n",
      "0                    0               0               0                0   \n",
      "1                    0               0               0                0   \n",
      "2                    0               0               0                0   \n",
      "3                    0               0               0                0   \n",
      "4                    0               0               0                0   \n",
      "...                ...             ...             ...              ...   \n",
      "33651                0               0               0                0   \n",
      "33652                0               0               0                0   \n",
      "33653                0               0               0                0   \n",
      "33654                0               0               0                0   \n",
      "33655                0               0               0                0   \n",
      "\n",
      "       SUBURB_Yokine  \n",
      "0                  0  \n",
      "1                  0  \n",
      "2                  0  \n",
      "3                  0  \n",
      "4                  0  \n",
      "...              ...  \n",
      "33651              0  \n",
      "33652              0  \n",
      "33653              0  \n",
      "33654              0  \n",
      "33655              0  \n",
      "\n",
      "[33656 rows x 335 columns]\n"
     ]
    }
   ],
   "source": [
    "df=pd.get_dummies(data, columns=['SUBURB'],drop_first=True)\n",
    "print(df)"
   ]
  },
  {
   "cell_type": "code",
   "execution_count": 18,
   "metadata": {},
   "outputs": [],
   "source": [
    "df = df.astype(int)"
   ]
  },
  {
   "cell_type": "code",
   "execution_count": 19,
   "metadata": {},
   "outputs": [
    {
     "name": "stdout",
     "output_type": "stream",
     "text": [
      "<class 'pandas.core.frame.DataFrame'>\n",
      "RangeIndex: 33656 entries, 0 to 33655\n",
      "Columns: 335 entries, PRICE to SUBURB_Yokine\n",
      "dtypes: int64(335)\n",
      "memory usage: 86.0 MB\n"
     ]
    }
   ],
   "source": [
    "df.info()"
   ]
  },
  {
   "cell_type": "code",
   "execution_count": 20,
   "metadata": {},
   "outputs": [
    {
     "data": {
      "text/html": [
       "<div>\n",
       "<style scoped>\n",
       "    .dataframe tbody tr th:only-of-type {\n",
       "        vertical-align: middle;\n",
       "    }\n",
       "\n",
       "    .dataframe tbody tr th {\n",
       "        vertical-align: top;\n",
       "    }\n",
       "\n",
       "    .dataframe thead th {\n",
       "        text-align: right;\n",
       "    }\n",
       "</style>\n",
       "<table border=\"1\" class=\"dataframe\">\n",
       "  <thead>\n",
       "    <tr style=\"text-align: right;\">\n",
       "      <th></th>\n",
       "      <th>PRICE</th>\n",
       "      <th>BEDROOMS</th>\n",
       "      <th>BATHROOMS</th>\n",
       "      <th>GARAGE</th>\n",
       "      <th>LAND_AREA</th>\n",
       "      <th>FLOOR_AREA</th>\n",
       "      <th>BUILD_YEAR</th>\n",
       "      <th>CBD_DIST</th>\n",
       "      <th>NEAREST_STN_DIST</th>\n",
       "      <th>POSTCODE</th>\n",
       "      <th>...</th>\n",
       "      <th>SUBURB_Wilson</th>\n",
       "      <th>SUBURB_Winthrop</th>\n",
       "      <th>SUBURB_Woodbridge</th>\n",
       "      <th>SUBURB_Woodlands</th>\n",
       "      <th>SUBURB_Woodvale</th>\n",
       "      <th>SUBURB_Wooroloo</th>\n",
       "      <th>SUBURB_Wungong</th>\n",
       "      <th>SUBURB_Yanchep</th>\n",
       "      <th>SUBURB_Yangebup</th>\n",
       "      <th>SUBURB_Yokine</th>\n",
       "    </tr>\n",
       "  </thead>\n",
       "  <tbody>\n",
       "    <tr>\n",
       "      <th>0</th>\n",
       "      <td>565000</td>\n",
       "      <td>4</td>\n",
       "      <td>2</td>\n",
       "      <td>2</td>\n",
       "      <td>600</td>\n",
       "      <td>160</td>\n",
       "      <td>2003</td>\n",
       "      <td>18300</td>\n",
       "      <td>1800</td>\n",
       "      <td>6164</td>\n",
       "      <td>...</td>\n",
       "      <td>0</td>\n",
       "      <td>0</td>\n",
       "      <td>0</td>\n",
       "      <td>0</td>\n",
       "      <td>0</td>\n",
       "      <td>0</td>\n",
       "      <td>0</td>\n",
       "      <td>0</td>\n",
       "      <td>0</td>\n",
       "      <td>0</td>\n",
       "    </tr>\n",
       "    <tr>\n",
       "      <th>1</th>\n",
       "      <td>365000</td>\n",
       "      <td>3</td>\n",
       "      <td>2</td>\n",
       "      <td>2</td>\n",
       "      <td>351</td>\n",
       "      <td>139</td>\n",
       "      <td>2013</td>\n",
       "      <td>26900</td>\n",
       "      <td>4900</td>\n",
       "      <td>6167</td>\n",
       "      <td>...</td>\n",
       "      <td>0</td>\n",
       "      <td>0</td>\n",
       "      <td>0</td>\n",
       "      <td>0</td>\n",
       "      <td>0</td>\n",
       "      <td>0</td>\n",
       "      <td>0</td>\n",
       "      <td>0</td>\n",
       "      <td>0</td>\n",
       "      <td>0</td>\n",
       "    </tr>\n",
       "    <tr>\n",
       "      <th>2</th>\n",
       "      <td>287000</td>\n",
       "      <td>3</td>\n",
       "      <td>1</td>\n",
       "      <td>1</td>\n",
       "      <td>719</td>\n",
       "      <td>86</td>\n",
       "      <td>1979</td>\n",
       "      <td>22600</td>\n",
       "      <td>1900</td>\n",
       "      <td>6111</td>\n",
       "      <td>...</td>\n",
       "      <td>0</td>\n",
       "      <td>0</td>\n",
       "      <td>0</td>\n",
       "      <td>0</td>\n",
       "      <td>0</td>\n",
       "      <td>0</td>\n",
       "      <td>0</td>\n",
       "      <td>0</td>\n",
       "      <td>0</td>\n",
       "      <td>0</td>\n",
       "    </tr>\n",
       "    <tr>\n",
       "      <th>3</th>\n",
       "      <td>255000</td>\n",
       "      <td>2</td>\n",
       "      <td>1</td>\n",
       "      <td>2</td>\n",
       "      <td>651</td>\n",
       "      <td>59</td>\n",
       "      <td>1953</td>\n",
       "      <td>17900</td>\n",
       "      <td>3600</td>\n",
       "      <td>6056</td>\n",
       "      <td>...</td>\n",
       "      <td>0</td>\n",
       "      <td>0</td>\n",
       "      <td>0</td>\n",
       "      <td>0</td>\n",
       "      <td>0</td>\n",
       "      <td>0</td>\n",
       "      <td>0</td>\n",
       "      <td>0</td>\n",
       "      <td>0</td>\n",
       "      <td>0</td>\n",
       "    </tr>\n",
       "    <tr>\n",
       "      <th>4</th>\n",
       "      <td>325000</td>\n",
       "      <td>4</td>\n",
       "      <td>1</td>\n",
       "      <td>2</td>\n",
       "      <td>466</td>\n",
       "      <td>131</td>\n",
       "      <td>1998</td>\n",
       "      <td>11200</td>\n",
       "      <td>2000</td>\n",
       "      <td>6054</td>\n",
       "      <td>...</td>\n",
       "      <td>0</td>\n",
       "      <td>0</td>\n",
       "      <td>0</td>\n",
       "      <td>0</td>\n",
       "      <td>0</td>\n",
       "      <td>0</td>\n",
       "      <td>0</td>\n",
       "      <td>0</td>\n",
       "      <td>0</td>\n",
       "      <td>0</td>\n",
       "    </tr>\n",
       "  </tbody>\n",
       "</table>\n",
       "<p>5 rows × 335 columns</p>\n",
       "</div>"
      ],
      "text/plain": [
       "    PRICE  BEDROOMS  BATHROOMS  GARAGE  LAND_AREA  FLOOR_AREA  BUILD_YEAR  \\\n",
       "0  565000         4          2       2        600         160        2003   \n",
       "1  365000         3          2       2        351         139        2013   \n",
       "2  287000         3          1       1        719          86        1979   \n",
       "3  255000         2          1       2        651          59        1953   \n",
       "4  325000         4          1       2        466         131        1998   \n",
       "\n",
       "   CBD_DIST  NEAREST_STN_DIST  POSTCODE  ...  SUBURB_Wilson  SUBURB_Winthrop  \\\n",
       "0     18300              1800      6164  ...              0                0   \n",
       "1     26900              4900      6167  ...              0                0   \n",
       "2     22600              1900      6111  ...              0                0   \n",
       "3     17900              3600      6056  ...              0                0   \n",
       "4     11200              2000      6054  ...              0                0   \n",
       "\n",
       "   SUBURB_Woodbridge  SUBURB_Woodlands  SUBURB_Woodvale  SUBURB_Wooroloo  \\\n",
       "0                  0                 0                0                0   \n",
       "1                  0                 0                0                0   \n",
       "2                  0                 0                0                0   \n",
       "3                  0                 0                0                0   \n",
       "4                  0                 0                0                0   \n",
       "\n",
       "   SUBURB_Wungong  SUBURB_Yanchep  SUBURB_Yangebup  SUBURB_Yokine  \n",
       "0               0               0                0              0  \n",
       "1               0               0                0              0  \n",
       "2               0               0                0              0  \n",
       "3               0               0                0              0  \n",
       "4               0               0                0              0  \n",
       "\n",
       "[5 rows x 335 columns]"
      ]
     },
     "execution_count": 20,
     "metadata": {},
     "output_type": "execute_result"
    }
   ],
   "source": [
    "df.head()"
   ]
  },
  {
   "cell_type": "code",
   "execution_count": 21,
   "metadata": {},
   "outputs": [
    {
     "name": "stdout",
     "output_type": "stream",
     "text": [
      "PRICE                1.000000\n",
      "FLOOR_AREA           0.548497\n",
      "BATHROOMS            0.377133\n",
      "BEDROOMS             0.252637\n",
      "SUBURB_City Beach    0.195176\n",
      "                       ...   \n",
      "NEAREST_STN_DIST    -0.095089\n",
      "LONGITUDE           -0.121327\n",
      "BUILD_YEAR          -0.150108\n",
      "POSTCODE            -0.171553\n",
      "CBD_DIST            -0.354327\n",
      "Name: PRICE, Length: 335, dtype: float64\n"
     ]
    }
   ],
   "source": [
    "corr_matrix = df.corr()\n",
    "print(corr_matrix['PRICE'].sort_values(ascending=False))"
   ]
  },
  {
   "cell_type": "code",
   "execution_count": 22,
   "metadata": {},
   "outputs": [],
   "source": [
    "from sklearn.model_selection import train_test_split\n",
    "from sklearn.linear_model import LinearRegression\n",
    "\n",
    "model = LinearRegression()"
   ]
  },
  {
   "cell_type": "code",
   "execution_count": 23,
   "metadata": {},
   "outputs": [],
   "source": [
    "X = df.drop('PRICE', axis=1)\n",
    "y = df['PRICE']"
   ]
  },
  {
   "cell_type": "code",
   "execution_count": 24,
   "metadata": {},
   "outputs": [],
   "source": [
    "X_train, X_test, y_train, y_test = train_test_split(X, y)"
   ]
  },
  {
   "cell_type": "code",
   "execution_count": 25,
   "metadata": {},
   "outputs": [
    {
     "name": "stdout",
     "output_type": "stream",
     "text": [
      "0.7687532098171183\n"
     ]
    }
   ],
   "source": [
    "from sklearn.linear_model import LinearRegression, Ridge\n",
    "\n",
    "lr = LinearRegression().fit(X_train, y_train)\n",
    "lr_score = lr.score(X_test, y_test)\n",
    "print(lr_score)\n"
   ]
  },
  {
   "cell_type": "code",
   "execution_count": 26,
   "metadata": {},
   "outputs": [
    {
     "name": "stdout",
     "output_type": "stream",
     "text": [
      "0.7561502200784496\n"
     ]
    }
   ],
   "source": [
    "ridge = Ridge(alpha=15).fit(X_train, y_train)\n",
    "ridge_score = ridge.score(X_test, y_test)\n",
    "print(ridge_score)"
   ]
  },
  {
   "cell_type": "code",
   "execution_count": 27,
   "metadata": {},
   "outputs": [],
   "source": [
    "\n",
    "predicted_values = lr.predict(X_test)"
   ]
  },
  {
   "cell_type": "code",
   "execution_count": 28,
   "metadata": {},
   "outputs": [
    {
     "data": {
      "text/plain": [
       "Text(0, 0.5, 'Predicted values')"
      ]
     },
     "execution_count": 28,
     "metadata": {},
     "output_type": "execute_result"
    },
    {
     "data": {
      "image/png": "[encoded data removed]",
      "text/plain": [
       "<Figure size 432x288 with 1 Axes>"
      ]
     },
     "metadata": {
      "needs_background": "light"
     },
     "output_type": "display_data"
    }
   ],
   "source": [
    "sns.scatterplot(x=y_test, y=predicted_values)\n",
    "plt.xlabel('Real values')\n",
    "plt.ylabel('Predicted values')"
   ]
  },
  {
   "cell_type": "code",
   "execution_count": 29,
   "metadata": {},
   "outputs": [
    {
     "data": {
      "image/png": "[encoded data removed]",
      "text/plain": [
       "<Figure size 432x288 with 1 Axes>"
      ]
     },
     "metadata": {
      "needs_background": "light"
     },
     "output_type": "display_data"
    },
    {
     "data": {
      "text/plain": [
       "array([[573457.72746851],\n",
       "       [516614.66279622],\n",
       "       [373153.59481376],\n",
       "       ...,\n",
       "       [443530.72250327],\n",
       "       [370446.78221032],\n",
       "       [397514.90824474]])"
      ]
     },
     "execution_count": 29,
     "metadata": {},
     "output_type": "execute_result"
    }
   ],
   "source": [
    "X = df.iloc[:, 5].values.reshape(-1,1) #floor_area\n",
    "Y = df.iloc[:, 0].values.reshape(-1,1) #price\n",
    "\n",
    "linear_regressor = LinearRegression() \n",
    "linear_regressor.fit(X, Y) \n",
    "\n",
    "Y_pred = linear_regressor.predict(X) \n",
    "\n",
    "Y_pred\n",
    "\n",
    "\n",
    "plt.scatter(X, Y)\n",
    "plt.plot(X, Y_pred, color='red')\n",
    "plt.xlabel(\"Floor area\")\n",
    "plt.ylabel(\"Prices\")\n",
    "plt.show()\n",
    "\n",
    "Y_pred"
   ]
  },
  {
   "cell_type": "code",
   "execution_count": 30,
   "metadata": {},
   "outputs": [
    {
     "data": {
      "image/png": "[encoded data removed]",
      "text/plain": [
       "<Figure size 432x288 with 1 Axes>"
      ]
     },
     "metadata": {
      "needs_background": "light"
     },
     "output_type": "display_data"
    },
    {
     "data": {
      "text/plain": [
       "array([[677492.09824445],\n",
       "       [677492.09824445],\n",
       "       [449049.00311173],\n",
       "       ...,\n",
       "       [677492.09824445],\n",
       "       [449049.00311173],\n",
       "       [449049.00311173]])"
      ]
     },
     "execution_count": 30,
     "metadata": {},
     "output_type": "execute_result"
    }
   ],
   "source": [
    "X = df.iloc[:, 2 ].values.reshape(-1,1) #bathrooms\n",
    "Y = df.iloc[:, 0].values.reshape(-1,1) #price\n",
    "\n",
    "linear_regressor = LinearRegression() \n",
    "linear_regressor.fit(X, Y)\n",
    "\n",
    "Y_pred = linear_regressor.predict(X) \n",
    "\n",
    "Y_pred\n",
    "\n",
    "\n",
    "plt.scatter(X, Y)\n",
    "plt.plot(X, Y_pred, color='red')\n",
    "plt.xlabel(\"Bathrooms\")\n",
    "plt.ylabel(\"Prices\")\n",
    "plt.show()\n",
    "\n",
    "Y_pred"
   ]
  },
  {
   "cell_type": "code",
   "execution_count": 31,
   "metadata": {},
   "outputs": [
    {
     "data": {
      "image/png": "[encoded data removed]",
      "text/plain": [
       "<Figure size 432x288 with 1 Axes>"
      ]
     },
     "metadata": {
      "needs_background": "light"
     },
     "output_type": "display_data"
    },
    {
     "data": {
      "text/plain": [
       "array([[677820.28728885],\n",
       "       [558285.36512434],\n",
       "       [558285.36512434],\n",
       "       ...,\n",
       "       [558285.36512434],\n",
       "       [558285.36512434],\n",
       "       [558285.36512434]])"
      ]
     },
     "execution_count": 31,
     "metadata": {},
     "output_type": "execute_result"
    }
   ],
   "source": [
    "\n",
    "X = df.iloc[:, 1].values.reshape(-1,1) #bedrooms\n",
    "Y = df.iloc[:, 0].values.reshape(-1,1) #price\n",
    "\n",
    "linear_regressor = LinearRegression() \n",
    "linear_regressor.fit(X, Y)\n",
    "\n",
    "Y_pred = linear_regressor.predict(X) \n",
    "\n",
    "Y_pred\n",
    "\n",
    "\n",
    "plt.scatter(X, Y)\n",
    "plt.plot(X, Y_pred, color='red')\n",
    "plt.xlabel(\"Bedrooms\")\n",
    "plt.ylabel(\"Prices\")\n",
    "plt.show()\n",
    "\n",
    "Y_pred"
   ]
  },
  {
   "cell_type": "code",
   "execution_count": 32,
   "metadata": {},
   "outputs": [
    {
     "data": {
      "image/png": "[encoded data removed]",
      "text/plain": [
       "<Figure size 432x288 with 1 Axes>"
      ]
     },
     "metadata": {
      "needs_background": "light"
     },
     "output_type": "display_data"
    },
    {
     "data": {
      "text/plain": [
       "array([[563841.58170434],\n",
       "       [560895.86583777],\n",
       "       [615882.56201376],\n",
       "       ...,\n",
       "       [664977.8264566 ],\n",
       "       [662032.11059003],\n",
       "       [669887.35290088]])"
      ]
     },
     "execution_count": 32,
     "metadata": {},
     "output_type": "execute_result"
    }
   ],
   "source": [
    "X = df.iloc[:, 9].values.reshape(-1,1) #postcode\n",
    "Y = df.iloc[:, 0].values.reshape(-1,1) #price\n",
    "\n",
    "linear_regressor = LinearRegression() \n",
    "linear_regressor.fit(X, Y) \n",
    "\n",
    "Y_pred = linear_regressor.predict(X) \n",
    "\n",
    "Y_pred\n",
    "\n",
    "\n",
    "plt.scatter(X, Y)\n",
    "plt.plot(X, Y_pred, color='red')\n",
    "plt.xlabel(\"Postcode\")\n",
    "plt.ylabel(\"Prices\")\n",
    "plt.show()\n",
    "\n",
    "Y_pred"
   ]
  },
  {
   "cell_type": "code",
   "execution_count": 33,
   "metadata": {},
   "outputs": [
    {
     "data": {
      "image/png": "[encoded data removed]",
      "text/plain": [
       "<Figure size 432x288 with 1 Axes>"
      ]
     },
     "metadata": {
      "needs_background": "light"
     },
     "output_type": "display_data"
    },
    {
     "data": {
      "text/plain": [
       "array([[653462.21478463],\n",
       "       [558052.55349521],\n",
       "       [605757.38413992],\n",
       "       ...,\n",
       "       [749981.29074022],\n",
       "       [716698.85075553],\n",
       "       [671212.84944313]])"
      ]
     },
     "execution_count": 33,
     "metadata": {},
     "output_type": "execute_result"
    }
   ],
   "source": [
    "X = df.iloc[:, 7].values.reshape(-1,1) #distance from city centre\n",
    "Y = df.iloc[:, 0].values.reshape(-1,1) #price\n",
    "\n",
    "linear_regressor = LinearRegression() \n",
    "linear_regressor.fit(X, Y) \n",
    "\n",
    "Y_pred = linear_regressor.predict(X) \n",
    "\n",
    "Y_pred\n",
    "\n",
    "\n",
    "plt.scatter(X, Y)\n",
    "plt.plot(X, Y_pred, color='red')\n",
    "plt.xlabel(\"Distance from city centre\")\n",
    "plt.ylabel(\"Prices\")\n",
    "plt.show()\n",
    "\n",
    "Y_pred"
   ]
  }
 ],
 "metadata": {
  "interpreter": {
   "hash": "916dbcbb3f70747c44a77c7bcd40155683ae19c65e1c03b4aa3499c5328201f1"
  },
  "kernelspec": {
   "display_name": "Python 3.9.2 64-bit",
   "language": "python",
   "name": "python3"
  },
  "language_info": {
   "codemirror_mode": {
    "name": "ipython",
    "version": 3
   },
   "file_extension": ".py",
   "mimetype": "text/x-python",
   "name": "python",
   "nbconvert_exporter": "python",
   "pygments_lexer": "ipython3",
   "version": "3.9.2"
  },
  "orig_nbformat": 4
 },
 "nbformat": 4,
 "nbformat_minor": 2
}
